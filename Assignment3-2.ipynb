{
 "cells": [
  {
   "cell_type": "code",
   "execution_count": 1,
   "id": "47a7a25a",
   "metadata": {},
   "outputs": [
    {
     "name": "stdout",
     "output_type": "stream",
     "text": [
      "ENTER THE STRING: test12345\n",
      "STRING BEFORE REVERSING IS:   test12345\n",
      "THE REVERSED STRING IS : 54321tset\n"
     ]
    }
   ],
   "source": [
    "def rev(str):\n",
    "  str1 = \"\"  #declaring an empty string to take an input from user\n",
    "  for i in str:  \n",
    "    str1 = i + str1 # First element going down to last by using iteration\n",
    "  return str1\n",
    "  \n",
    "str = input(\"ENTER THE STRING: \") #taking input from the user\n",
    "  \n",
    "print (\"STRING BEFORE REVERSING IS:   \",end=\"\") #printing the original string\n",
    "print (str)\n",
    "  \n",
    "print (\"THE REVERSED STRING IS : \",end=\"\") #printing the reversed string\n",
    "print (rev(str))"
   ]
  },
  {
   "cell_type": "code",
   "execution_count": null,
   "id": "e1c85975",
   "metadata": {},
   "outputs": [],
   "source": []
  }
 ],
 "metadata": {
  "kernelspec": {
   "display_name": "Python 3 (ipykernel)",
   "language": "python",
   "name": "python3"
  },
  "language_info": {
   "codemirror_mode": {
    "name": "ipython",
    "version": 3
   },
   "file_extension": ".py",
   "mimetype": "text/x-python",
   "name": "python",
   "nbconvert_exporter": "python",
   "pygments_lexer": "ipython3",
   "version": "3.10.2"
  }
 },
 "nbformat": 4,
 "nbformat_minor": 5
}

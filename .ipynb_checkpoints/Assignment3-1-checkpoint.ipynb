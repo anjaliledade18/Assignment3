{
 "cells": [
  {
   "cell_type": "code",
   "execution_count": null,
   "id": "46aa12b1",
   "metadata": {},
   "outputs": [],
   "source": [
    "##sum of all numbers in tuple"
   ]
  },
  {
   "cell_type": "code",
   "execution_count": 1,
   "id": "fb15626f",
   "metadata": {},
   "outputs": [
    {
     "name": "stdout",
     "output_type": "stream",
     "text": [
      "20\n"
     ]
    }
   ],
   "source": [
    "def sumele(num): #num is the parameter which is the list which we will take as input\n",
    "    sum = 0      #sum variable storing the sum as elements are being added\n",
    "    for i in num: \n",
    "        sum += i\n",
    "    return sum\n",
    "\n",
    "    \n",
    "print(sumele((8, 2, 3, 0, 7)))   #printing the sum"
   ]
  },
  {
   "cell_type": "code",
   "execution_count": null,
   "id": "2ba024b0",
   "metadata": {},
   "outputs": [],
   "source": []
  }
 ],
 "metadata": {
  "kernelspec": {
   "display_name": "Python 3 (ipykernel)",
   "language": "python",
   "name": "python3"
  },
  "language_info": {
   "codemirror_mode": {
    "name": "ipython",
    "version": 3
   },
   "file_extension": ".py",
   "mimetype": "text/x-python",
   "name": "python",
   "nbconvert_exporter": "python",
   "pygments_lexer": "ipython3",
   "version": "3.10.2"
  }
 },
 "nbformat": 4,
 "nbformat_minor": 5
}

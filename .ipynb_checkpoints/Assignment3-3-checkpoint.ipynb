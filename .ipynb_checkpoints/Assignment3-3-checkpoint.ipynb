{
 "cells": [
  {
   "cell_type": "code",
   "execution_count": 2,
   "id": "b35bdc66",
   "metadata": {},
   "outputs": [
    {
     "name": "stdout",
     "output_type": "stream",
     "text": [
      "Enter the string: AnJALi\n",
      "ORIGINAL STRING IS :  AnJALi\n",
      "COUNT FOR UPPERCASE CHARACTERS :  4\n",
      "COUNT FOR LOWERCASE CHARACTERS :  2\n"
     ]
    }
   ],
   "source": [
    "def str_check(str):\n",
    "    countupper=0 \n",
    "    countlower=0  \n",
    "    for x in str:\n",
    "        if x.isupper():\n",
    "           countupper+=1\n",
    "        elif x.islower():\n",
    "           countlower+=1\n",
    "        else:\n",
    "           pass\n",
    "    print (\"ORIGINAL STRING IS : \", str)\n",
    "    print (\"COUNT FOR UPPERCASE CHARACTERS : \", countupper)\n",
    "    print (\"COUNT FOR LOWERCASE CHARACTERS : \", countlower)\n",
    "    \n",
    "str = input(\"Enter the string: \")\n",
    "str_check(str)"
   ]
  },
  {
   "cell_type": "code",
   "execution_count": null,
   "id": "e1a62abd",
   "metadata": {},
   "outputs": [],
   "source": []
  }
 ],
 "metadata": {
  "kernelspec": {
   "display_name": "Python 3 (ipykernel)",
   "language": "python",
   "name": "python3"
  },
  "language_info": {
   "codemirror_mode": {
    "name": "ipython",
    "version": 3
   },
   "file_extension": ".py",
   "mimetype": "text/x-python",
   "name": "python",
   "nbconvert_exporter": "python",
   "pygments_lexer": "ipython3",
   "version": "3.10.2"
  }
 },
 "nbformat": 4,
 "nbformat_minor": 5
}
